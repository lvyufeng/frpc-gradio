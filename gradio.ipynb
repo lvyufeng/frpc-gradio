{
 "cells": [
  {
   "cell_type": "code",
   "execution_count": 1,
   "id": "6bac466b-aadf-4c47-8170-00ba2b732e3d",
   "metadata": {},
   "outputs": [],
   "source": [
    "# !pip install gradio==3.39 -i https://pypi.tuna.tsinghua.edu.cn/simple\n",
    "!pip install fastapi==0.99"
   ]
  },
  {
   "cell_type": "code",
   "execution_count": 2,
   "id": "17ea403a-340f-4557-9095-dbf235de2193",
   "metadata": {},
   "outputs": [],
   "source": [
    "import os\n",
    "import stat\n",
    "import requests\n",
    "import platform\n",
    "from pathlib import Path\n",
    "import gradio\n",
    "from gradio.tunneling import EXTENSION, BINARY_PATH\n",
    "\n",
    "machine = platform.machine()\n",
    "if machine == \"aarch64\":\n",
    "    machine = \"arm64\"\n",
    "elif machine == \"x86_64\":\n",
    "    machine = \"amd64\"\n",
    "\n",
    "BINARY_REMOTE_NAME = f\"frpc_{platform.system().lower()}_{machine.lower()}\"\n",
    "BINARY_URL = f\"https://openi.pcl.ac.cn/lvyufeng/frpc-gradio/raw/branch/master/{BINARY_REMOTE_NAME}{EXTENSION}\"\n",
    "\n",
    "def download_binary():\n",
    "    if not Path(BINARY_PATH).exists():\n",
    "        resp = requests.get(BINARY_URL)\n",
    "\n",
    "        if resp.status_code == 403:\n",
    "            raise OSError(\n",
    "                f\"Cannot set up a share link as this platform is incompatible. Please \"\n",
    "                f\"create a GitHub issue with information about your platform: {platform.uname()}\"\n",
    "            )\n",
    "\n",
    "        resp.raise_for_status()\n",
    "\n",
    "        # Save file data to local copy\n",
    "        with open(BINARY_PATH, \"wb\") as file:\n",
    "            file.write(resp.content)\n",
    "        st = os.stat(BINARY_PATH)\n",
    "        os.chmod(BINARY_PATH, st.st_mode | stat.S_IEXEC)"
   ]
  },
  {
   "cell_type": "code",
   "execution_count": 3,
   "id": "b8357d23-30a2-4c22-a61c-f047eea8a4b7",
   "metadata": {},
   "outputs": [],
   "source": [
    "download_binary()"
   ]
  },
  {
   "cell_type": "code",
   "execution_count": 4,
   "id": "87bd43d1-4d8e-4aa4-8993-c772e887faa0",
   "metadata": {},
   "outputs": [
    {
     "name": "stdout",
     "output_type": "stream",
     "text": [
      "Running on local URL:  http://127.0.0.1:7860\n",
      "Running on public URL: https://beacbe0e67ef502f23.gradio.live\n",
      "\n",
      "This share link expires in 72 hours. For free permanent hosting and GPU upgrades, run `gradio deploy` from Terminal to deploy to Spaces (https://huggingface.co/spaces)\n"
     ]
    },
    {
     "data": {
      "text/html": [
       "<div><iframe src=\"https://beacbe0e67ef502f23.gradio.live\" width=\"100%\" height=\"500\" allow=\"autoplay; camera; microphone; clipboard-read; clipboard-write;\" frameborder=\"0\" allowfullscreen></iframe></div>"
      ],
      "text/plain": [
       "<IPython.core.display.HTML object>"
      ]
     },
     "metadata": {},
     "output_type": "display_data"
    },
    {
     "data": {
      "text/plain": []
     },
     "execution_count": 4,
     "metadata": {},
     "output_type": "execute_result"
    }
   ],
   "source": [
    "import gradio as gr\n",
    "\n",
    "# def greet(name):\n",
    "#     return 123\n",
    "\n",
    "# demo = gr.Interface(fn=greet, inputs=\"text\", outputs=\"text\")\n",
    "\n",
    "def greet(name):\n",
    "    return \"Hello \" + name + \"!\"\n",
    "\n",
    "demo = gr.Interface(\n",
    "    fn=greet,\n",
    "    inputs=gr.Textbox(lines=2, placeholder=\"Name Here...\"),\n",
    "    outputs=\"text\",\n",
    ")\n",
    "\n",
    "demo.launch(share=True)"
   ]
  },
  {
   "cell_type": "code",
   "execution_count": 5,
   "id": "da2e3eab-9aca-4008-86d5-df1916a7a925",
   "metadata": {},
   "outputs": [],
   "source": [
    "# !pip install typing_extensions --upgrade -i https://pypi.tuna.tsinghua.edu.cn/simple"
   ]
  }
 ],
 "metadata": {
  "kernelspec": {
   "display_name": "MindSpore",
   "language": "python",
   "name": "mindspore"
  },
  "language_info": {
   "codemirror_mode": {
    "name": "ipython",
    "version": 3
   },
   "file_extension": ".py",
   "mimetype": "text/x-python",
   "name": "python",
   "nbconvert_exporter": "python",
   "pygments_lexer": "ipython3",
   "version": "3.7.10"
  }
 },
 "nbformat": 4,
 "nbformat_minor": 5
}
